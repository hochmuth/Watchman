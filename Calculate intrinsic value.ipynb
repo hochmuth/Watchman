{
 "cells": [
  {
   "cell_type": "markdown",
   "metadata": {},
   "source": [
    "## Intrinsic value calculator (DCF model)"
   ]
  },
  {
   "cell_type": "code",
   "execution_count": 1,
   "metadata": {
    "jupyter": {
     "source_hidden": true
    }
   },
   "outputs": [],
   "source": [
    "# Calculate the intrinsic value\n",
    "import glob\n",
    "import os\n",
    "import numpy as np\n",
    "import pandas as pd\n",
    "import seaborn as sns\n",
    "import matplotlib.pyplot as plt\n",
    "\n",
    "from datetime import date"
   ]
  },
  {
   "cell_type": "code",
   "execution_count": 2,
   "metadata": {},
   "outputs": [],
   "source": [
    "ticker = 'BABA'"
   ]
  },
  {
   "cell_type": "markdown",
   "metadata": {},
   "source": [
    "#### Get data"
   ]
  },
  {
   "cell_type": "code",
   "execution_count": 3,
   "metadata": {
    "jupyter": {
     "source_hidden": true
    }
   },
   "outputs": [],
   "source": [
    "# Get the latest stored data - annual reports\n",
    "annuals = glob.glob(f'./annual_reports/{ticker}_*_annual_*.csv')\n",
    "assert len(annuals) > 0, f'No annual files found for {ticker}'\n",
    "annuals.sort()\n",
    "df_annuals = pd.read_csv(annuals[-1], sep=';', header=0, index_col='fiscalYear')"
   ]
  },
  {
   "cell_type": "code",
   "execution_count": 4,
   "metadata": {
    "jupyter": {
     "source_hidden": true
    }
   },
   "outputs": [],
   "source": [
    "# Get the overview data\n",
    "overviews = glob.glob(f'./overviews/{ticker}_*_overview_*.csv')\n",
    "assert len(overviews) > 0, f'No overview files found for {ticker}'\n",
    "overviews.sort()\n",
    "df_overviews = pd.read_csv(overviews[-1], sep=';', header=0, index_col='Metric')"
   ]
  },
  {
   "cell_type": "markdown",
   "metadata": {},
   "source": [
    "#### Functions"
   ]
  },
  {
   "cell_type": "code",
   "execution_count": 5,
   "metadata": {
    "jupyter": {
     "source_hidden": true
    }
   },
   "outputs": [],
   "source": [
    "# Functions\n",
    "\n",
    "def calculate_tax_rate(income_tax_expense, income_bef_tax):\n",
    "    return (income_tax_expense / income_bef_tax)\n",
    "\n",
    "def calculate_total_debt_ratio(debt, market_cap):\n",
    "    return debt / (debt + market_cap)\n",
    "\n",
    "def calculate_market_cap_ratio(debt, market_cap):\n",
    "    return market_cap / (debt + market_cap)\n",
    "\n",
    "def calculate_cost_of_debt(interest_expense, total_debt):\n",
    "    return interest_expense / total_debt\n",
    "\n",
    "def calculate_cost_of_debt_after_tax(cost_of_debt, tax_rate):\n",
    "    return cost_of_debt * (1 - tax_rate)\n",
    "\n",
    "def calculate_cost_of_equity(risk_free_rate, equity_risk_premium, beta):\n",
    "    return risk_free_rate + (equity_risk_premium * beta)\n",
    "\n",
    "def calculate_WACC(cost_of_equity, cost_of_debt_after_tax, market_cap_ratio, total_debt_ratio):\n",
    "    '''Weighted average cost of capital'''\n",
    "    return (cost_of_equity * market_cap_ratio) + (cost_of_debt_after_tax * total_debt_ratio)\n",
    "\n",
    "def calc_xnpv(rate, values, dates):\n",
    "    '''Equivalent of Excel's XNPV function.\n",
    "       Based on: https://stackoverflow.com/a/33260133'''\n",
    "    if rate <= -1.0:\n",
    "        return float('inf')\n",
    "    d0 = dates[0]    # or min(dates)\n",
    "    return sum([ vi / (1.0 + rate)**((di - d0).days / 365.0) for vi, di in zip(values, dates)])\n",
    "    \n",
    "def calc_growth_rate(val_start, val_end):\n",
    "    return (val_end / val_start) - 1\n",
    "\n",
    "def get_avg_growth_values(n_periods, growth_rate, val_start):\n",
    "    out_vals = []\n",
    "    for period in range(n_periods):\n",
    "        if period == 0:\n",
    "            val = val_start\n",
    "        val = val + (val * growth_rate)\n",
    "        out_vals.append(val)\n",
    "    return out_vals\n",
    "\n",
    "def calc_perpetual_growth_val(ending_FCF_val, perp_growth_rate, discount_rate):\n",
    "    return (ending_FCF_val * (1 + perp_growth_rate)) / (discount_rate - perp_growth_rate)\n",
    "\n",
    "def bil(num):\n",
    "    return round(num / 1000000000, 2)"
   ]
  },
  {
   "cell_type": "markdown",
   "metadata": {},
   "source": [
    "#### Calculations"
   ]
  },
  {
   "cell_type": "code",
   "execution_count": 6,
   "metadata": {
    "jupyter": {
     "source_hidden": true
    }
   },
   "outputs": [
    {
     "name": "stdout",
     "output_type": "stream",
     "text": [
      "Market cap: 631.9B\n",
      "Total debt: 125.43B\n",
      "Cash: 330.5B\n",
      "Discount rate: 7.21%\n"
     ]
    }
   ],
   "source": [
    "# Assumptions\n",
    "\n",
    "# General\n",
    "\n",
    "# The reasonable rate (%) that cash flow can grow\n",
    "perpetual_growth_rate = 0.025\n",
    "# US gov bond 10y yield\n",
    "risk_free_rate = 0.013\n",
    "equity_risk_premium = 0.075\n",
    "\n",
    "# Company-specific\n",
    "EV_EBITDA = df_overviews.loc['EVToEBITDA'].astype('float')[0]\n",
    "shares_outstanding = df_overviews.loc['SharesOutstanding'].astype('int64')[0]\n",
    "market_capitalization = int(df_overviews.loc['MarketCapitalization', 'Value'])\n",
    "total_debt = df_annuals.loc[df_annuals.index.max(), ['shortTermDebt', 'longTermDebt']].sum()\n",
    "cash = df_annuals.loc[df_annuals.index.max(), ['cashAndShortTermInvestments']].astype('float')[0]\n",
    "capex = df_annuals.loc[:, ['capitalExpenditures']].mean()[0]\n",
    "beta = df_overviews.loc['Beta',:].astype('float')[0]\n",
    "\n",
    "# WACC Calculations\n",
    "tax_rate = calculate_tax_rate(abs(df_annuals.loc[df_annuals.index.max(), 'incomeTaxExpense']),\n",
    "                              df_annuals.loc[df_annuals.index.max(), 'incomeBeforeTax'])\n",
    "market_cap_r = calculate_market_cap_ratio(total_debt, market_capitalization)\n",
    "total_debt_r = calculate_total_debt_ratio(total_debt, market_capitalization)\n",
    "cost_of_equity = calculate_cost_of_equity(risk_free_rate, equity_risk_premium, beta)\n",
    "cost_of_debt = calculate_cost_of_debt(interest_expense=abs(df_annuals.loc[df_annuals.index.max(), 'interestExpense']),\n",
    "                                      total_debt=total_debt)\n",
    "cost_of_debt_after_tax = calculate_cost_of_debt_after_tax(cost_of_debt, tax_rate)\n",
    "\n",
    "\n",
    "discount_rate = calculate_WACC(cost_of_equity,\n",
    "                               cost_of_debt_after_tax,\n",
    "                               market_cap_r,\n",
    "                               total_debt_r)\n",
    "\n",
    "print(f'Market cap: {bil(market_capitalization)}B')\n",
    "print(f'Total debt: {bil(total_debt)}B')\n",
    "print(f'Cash: {bil(cash)}B')\n",
    "print(f'Discount rate: {round(discount_rate*100, 2)}%')"
   ]
  },
  {
   "cell_type": "markdown",
   "metadata": {},
   "source": [
    "#### Future estimations"
   ]
  },
  {
   "cell_type": "code",
   "execution_count": 7,
   "metadata": {},
   "outputs": [],
   "source": [
    "# EBIT avg growth rate for the past 4 years\n",
    "ebit_avg_growth = np.mean(df_annuals.loc[:, 'ebit'].sort_index().pct_change().dropna().to_list())\n",
    "future_ebit_vals = pd.Series(get_avg_growth_values(4, ebit_avg_growth, df_annuals.loc[df_annuals.index.max(), 'ebit']))\n",
    "\n",
    "future_cash_taxes = future_ebit_vals * tax_rate\n",
    "DA_avg = np.mean(df_annuals.loc[:, 'depreciationAndAmortization'].abs())\n",
    "future_NWC = np.mean(pd.Series(df_annuals.loc[:, 'totalCurrentAssets']) - pd.Series(df_annuals.loc[:, 'totalCurrentLiabilities']))"
   ]
  },
  {
   "cell_type": "code",
   "execution_count": 8,
   "metadata": {
    "jupyter": {
     "source_hidden": true
    }
   },
   "outputs": [],
   "source": [
    "# Next five years\n",
    "next_5Y = list(range(int(df_annuals.index.max()) + 1, df_annuals.index.max() + 5)) \n",
    "\n",
    "df_dcf = future_ebit_vals.to_frame(name='EBIT')\n",
    "df_dcf.index = next_5Y\n",
    "df_dcf['Cash taxes'] = df_dcf.loc[:, 'EBIT'] * tax_rate\n",
    "df_dcf['Depr&Amort'] = np.mean(df_annuals.loc[:, 'depreciationAndAmortization'].abs())\n",
    "df_dcf['Capex'] = capex\n",
    "# This needs to be change in NWC, not NWC!\n",
    "df_dcf['NetWorkCap'] = np.mean((pd.Series(df_annuals.loc[:, 'totalCurrentAssets']) - pd.Series(df_annuals.loc[:, 'totalCurrentLiabilities'])).diff().dropna())\n",
    "df_dcf['unleveredFCF'] = (df_dcf['EBIT'] - df_dcf['Cash taxes'] + df_dcf['Depr&Amort'] - df_dcf['Capex'] - df_dcf['NetWorkCap'])"
   ]
  },
  {
   "cell_type": "code",
   "execution_count": 43,
   "metadata": {},
   "outputs": [
    {
     "name": "stdout",
     "output_type": "stream",
     "text": [
      "fiscalYear\n",
      "2016    1.531890e+03\n",
      "2017    7.699200e+10\n",
      "2018    1.259890e+11\n",
      "2019    1.384910e+11\n",
      "2020    2.142520e+11\n",
      "Name: ebit, dtype: float64\n",
      "fiscalYear\n",
      "2016             NaN\n",
      "2017    7.699200e+10\n",
      "2018    2.029810e+11\n",
      "2019    2.644800e+11\n",
      "2020    3.527430e+11\n",
      "Name: ebit, dtype: float64\n",
      "352743000000.0\n",
      "fiscalYear\n",
      "2016             NaN\n",
      "2017    7.699200e+10\n",
      "2018    4.899700e+10\n",
      "2019    1.250200e+10\n",
      "2020    7.576100e+10\n",
      "Name: ebit, dtype: float64\n",
      "75761000000.0\n"
     ]
    }
   ],
   "source": [
    "# def get_previous_year()\n",
    "\n",
    "print(df_annuals.loc[:, 'ebit'])\n",
    "print(df_annuals.loc[:, 'ebit'].rolling(2).sum())\n",
    "print(df_annuals.loc[2019, 'ebit'] + df_annuals.loc[2020, 'ebit'])\n",
    "print(df_annuals.loc[:, 'ebit'].diff())\n",
    "print(df_annuals.loc[2020, 'ebit'] - df_annuals.loc[2019, 'ebit'])   "
   ]
  },
  {
   "cell_type": "code",
   "execution_count": 9,
   "metadata": {
    "jupyter": {
     "source_hidden": true
    }
   },
   "outputs": [],
   "source": [
    "perpetual_growth = calc_perpetual_growth_val(ending_FCF_val=df_dcf.loc[df_dcf.index.max(),'unleveredFCF'],\n",
    "                                            perp_growth_rate=perpetual_growth_rate,\n",
    "                                            discount_rate=discount_rate)\n",
    "EV_EBITDA_val = EV_EBITDA * (df_dcf.loc[df_dcf.index.max(),'EBIT'] + df_dcf.loc[df_dcf.index.max(),'Depr&Amort'])\n",
    "exit_FCF = np.mean([perpetual_growth, EV_EBITDA_val])"
   ]
  },
  {
   "cell_type": "markdown",
   "metadata": {},
   "source": [
    "#### Intrinsic value"
   ]
  },
  {
   "cell_type": "code",
   "execution_count": 10,
   "metadata": {
    "jupyter": {
     "source_hidden": true
    }
   },
   "outputs": [],
   "source": [
    "# Intrinsic value\n",
    "\n",
    "transaction_CF = df_dcf['unleveredFCF'].tolist()\n",
    "transaction_CF.append(exit_FCF)\n",
    "\n",
    "dates_CF = [date(year, 12, 31) for year in  list(df_dcf.index)]\n",
    "dates_CF.append(dates_CF[-1])\n",
    "\n",
    "enterprise_val_intrinsic = calc_xnpv(rate=discount_rate,\n",
    "                                     values=transaction_CF,\n",
    "                                     dates=dates_CF)\n",
    "\n",
    "equity_val_intrinsic = enterprise_val_intrinsic + cash - total_debt\n",
    "equity_val_per_share_intrinsic = equity_val_intrinsic / shares_outstanding"
   ]
  },
  {
   "cell_type": "code",
   "execution_count": 11,
   "metadata": {
    "jupyter": {
     "source_hidden": true
    }
   },
   "outputs": [],
   "source": [
    "# Market value (end of last fiscal)\n",
    "equity_val_market = market_capitalization + cash - total_debt\n",
    "equity_val_per_share_market = equity_val_market / shares_outstanding"
   ]
  },
  {
   "cell_type": "code",
   "execution_count": 12,
   "metadata": {
    "jupyter": {
     "source_hidden": true
    }
   },
   "outputs": [
    {
     "name": "stdout",
     "output_type": "stream",
     "text": [
      "Market value per share for BABA: 309.34\n",
      "Intrinsic value per share for BABA: 1.9218587535609333e+31\n",
      "The upside is 6.212719018284908e+30%\n",
      "Intrinsic including margin of safety (20.0%): 1.5374870028487465e+31\n",
      "That's still 4.9701752146279265e+30% upside\n"
     ]
    }
   ],
   "source": [
    "# Intrinsic vs. market\n",
    "MoS = 0.2\n",
    "MoS_intrinsic = equity_val_per_share_intrinsic - (equity_val_per_share_intrinsic * MoS)\n",
    "\n",
    "print(f'Market value per share for {ticker}: {round(equity_val_per_share_market, 2)}')\n",
    "print(f'Intrinsic value per share for {ticker}: {round(equity_val_per_share_intrinsic, 2)}')\n",
    "\n",
    "if equity_val_per_share_intrinsic > equity_val_per_share_market:\n",
    "    print(f'The upside is {round((equity_val_per_share_intrinsic/equity_val_per_share_market -1) * 100, 2)}%')\n",
    "    print(f'Intrinsic including margin of safety ({MoS * 100}%): {round(MoS_intrinsic, 2)}')\n",
    "    if MoS_intrinsic > equity_val_per_share_market:\n",
    "        print(f'That\\'s still {round((MoS_intrinsic/equity_val_per_share_market -1) * 100, 2)}% upside')\n",
    "    else:\n",
    "        print(f'The company is {round((equity_val_per_share_market/MoS_intrinsic -1) * 100, 2)}% above MoS value')\n",
    "else:\n",
    "    print(f'The company is {round((equity_val_per_share_market/equity_val_per_share_intrinsic -1) * 100, 2)}% above intrinsic value')"
   ]
  },
  {
   "cell_type": "code",
   "execution_count": null,
   "metadata": {},
   "outputs": [],
   "source": []
  },
  {
   "cell_type": "code",
   "execution_count": null,
   "metadata": {},
   "outputs": [],
   "source": []
  }
 ],
 "metadata": {
  "kernelspec": {
   "display_name": "Python 3",
   "language": "python",
   "name": "python3"
  },
  "language_info": {
   "codemirror_mode": {
    "name": "ipython",
    "version": 3
   },
   "file_extension": ".py",
   "mimetype": "text/x-python",
   "name": "python",
   "nbconvert_exporter": "python",
   "pygments_lexer": "ipython3",
   "version": "3.8.5"
  }
 },
 "nbformat": 4,
 "nbformat_minor": 4
}
