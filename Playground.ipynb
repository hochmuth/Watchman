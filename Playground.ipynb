{
 "cells": [
  {
   "cell_type": "code",
   "execution_count": null,
   "metadata": {},
   "outputs": [],
   "source": [
    "'''Gathers fundamental information about a stock using the Alpha Vantage API.'''\n",
    "import os\n",
    "import requests\n",
    "import datetime\n",
    "import time\n",
    "import pandas as pd\n",
    "import secrets\n",
    "\n",
    "from ratelimit import limits, sleep_and_retry\n",
    "from functions import *\n",
    "from metrics import metric_map\n",
    "\n",
    "API_URL = 'https://www.alphavantage.co/query'\n",
    "api_key = secrets.ALPHAVANTAGE_API_KEY\n",
    "api_tickers = ['BIIB', 'GOOG', 'INTC']\n",
    "\n",
    "api_functions = ['OVERVIEW',\n",
    "                 'INCOME_STATEMENT',\n",
    "                 'BALANCE_SHEET',\n",
    "                 'CASH_FLOW']\n",
    "\n",
    "if __name__ == '__main__':\n",
    "\n",
    "    # API rate limit\n",
    "    if len(api_tickers) > 1:\n",
    "        time.sleep(60)\n",
    "    start_time = time.time()\n",
    "\n",
    "    # Query the API\n",
    "    api_results = get_fundamentals_from_api(tickers=api_tickers,\n",
    "                                            functions=api_functions,\n",
    "                                            api_url=API_URL,\n",
    "                                            api_key=api_key)\n",
    "    for ticker in api_tickers:\n",
    "        # Save the annual results into csv\n",
    "        df_annual = annual_data_into_df(ticker, metric_map, api_results, trim_key=True)\n",
    "        df_to_csv(df=df_annual,\n",
    "                  folder='./annual_reports',\n",
    "                  ticker=ticker,\n",
    "                  report_type='annual',\n",
    "                  year=df_annual.index.max())\n",
    "\n",
    "        # Save overview into csv\n",
    "        df_overview = overview_into_df(ticker, api_results)\n",
    "        df_to_csv(df=overview_into_df(ticker, api_results),\n",
    "                  folder='./overviews',\n",
    "                  ticker=ticker,\n",
    "                  report_type='overview',\n",
    "                  year=df_overview.loc['LatestQuarter'].values[0][:4])\n",
    "\n",
    "    # How long it took\n",
    "    running_time = time.time() - start_time\n",
    "    if running_time < 60:\n",
    "        print(f'Total running time: {round(running_time)} sec')\n",
    "    else:\n",
    "        print(f'Total running time: {round(running_time/60)} min')"
   ]
  }
 ],
 "metadata": {
  "kernelspec": {
   "display_name": "Python 3",
   "language": "python",
   "name": "python3"
  },
  "language_info": {
   "codemirror_mode": {
    "name": "ipython",
    "version": 3
   },
   "file_extension": ".py",
   "mimetype": "text/x-python",
   "name": "python",
   "nbconvert_exporter": "python",
   "pygments_lexer": "ipython3",
   "version": "3.8.5"
  }
 },
 "nbformat": 4,
 "nbformat_minor": 4
}
